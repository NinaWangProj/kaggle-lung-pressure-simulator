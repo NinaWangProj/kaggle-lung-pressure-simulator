{
 "cells": [
  {
   "cell_type": "code",
   "execution_count": 66,
   "metadata": {},
   "outputs": [],
   "source": [
    "import pandas as pd\n",
    "import numpy as np\n",
    "import matplotlib.pyplot as plt\n",
    "import random\n",
    "\n",
    "\n",
    "data = pd.read_csv(r\"D:\\MachineLearning\\Projects\\Kaggle\\Ventilator_Pressure_Prediction_Kaggle\\Data\\ventilator-pressure-prediction\\test.csv\")\n",
    "\n",
    "\n",
    "data = data[data['R'] == 50]\n",
    "\n",
    "data_train_full = data\n",
    "data_train =data\n"
   ]
  },
  {
   "cell_type": "code",
   "execution_count": 67,
   "metadata": {},
   "outputs": [
    {
     "name": "stdout",
     "output_type": "stream",
     "text": [
      "20085\n"
     ]
    }
   ],
   "source": [
    "\n",
    "\n",
    "## Data Engineering\n",
    "## add additonal feature to catagorize input based on time step catagory.\n",
    "## seems like there are two types of time step delta/increment for a given breath. One has average time step delta around 0.0340\n",
    "## the other has time step delta/increment around 0.03215125\n",
    "\n",
    "#Add time index and remove time_step, id and breath_id columns\n",
    "data_train['time_index'] = (data_train_full['id']-1).mod(80)\n",
    "data_train.drop(columns=['id'], inplace=True)\n",
    "\n",
    "time_step_mean = data_train.groupby('breath_id')[['time_step']].mean().reset_index()\n",
    "time_step_mean.rename(columns={'time_step':'time_step_catagory'}, inplace=True)\n",
    "time_step_catagory_df = pd.merge(data_train, time_step_mean, on=['breath_id'])\n",
    "time_step_catagory_df.loc[time_step_catagory_df['time_step_catagory'] >=1.3 , 'time_step_catagory'] = 1\n",
    "time_step_catagory_df.loc[(time_step_catagory_df['time_step_catagory'] < 1.3) & (time_step_catagory_df['time_step_catagory'] > 1), 'time_step_catagory'] = 0\n",
    "\n",
    "##Data Engineering: \n",
    "## add additional 80 features. Use time series as features. Because lung's pressure at any given time is affected by a series of u_in.\n",
    "u_in_duplicates = data_train['u_in'].to_numpy()\n",
    "tiled = np.tile(u_in_duplicates, (80,1)).transpose()\n",
    "numberOfBreathIds = data_train_full['breath_id'].nunique()\n",
    "x_reshaped = np.reshape(tiled, (numberOfBreathIds, 80, 80))\n",
    "y = x_reshaped.transpose((0, 2, 1))\n",
    "triangular = np.tril(y, 0)\n",
    "row_count, column_count = data_train.shape\n",
    "updated_data = np.reshape(triangular, (row_count,80))\n",
    "\n",
    "numberOfAddedFeatures = 80\n",
    "columnsNames = list(range(0, numberOfAddedFeatures))\n",
    "new_feature_df = pd.DataFrame(updated_data, columns =columnsNames)\n",
    "added_features_data = pd.concat([time_step_catagory_df, new_feature_df], axis=1)\n",
    "\n",
    "#drop breath_id and time_step columns\n",
    "print(added_features_data['breath_id'].nunique())\n",
    "added_features_data.drop(columns=['breath_id'], inplace=True)\n",
    "added_features_data.drop(columns=['time_step'], inplace=True)\n",
    "added_features_data.drop(columns=['u_in'], inplace=True)\n",
    "\n",
    "\n"
   ]
  },
  {
   "cell_type": "code",
   "execution_count": 8,
   "metadata": {},
   "outputs": [
    {
     "name": "stdout",
     "output_type": "stream",
     "text": [
      "[0]\tvalidation_0-rmse:6.45119\n",
      "[1]\tvalidation_0-rmse:3.89719\n",
      "[2]\tvalidation_0-rmse:3.09875\n",
      "[3]\tvalidation_0-rmse:2.79268\n",
      "[4]\tvalidation_0-rmse:2.64728\n",
      "[5]\tvalidation_0-rmse:2.48957\n",
      "[6]\tvalidation_0-rmse:2.41282\n",
      "[7]\tvalidation_0-rmse:2.34313\n",
      "[8]\tvalidation_0-rmse:2.27783\n",
      "[9]\tvalidation_0-rmse:2.21412\n",
      "[10]\tvalidation_0-rmse:2.15995\n",
      "[11]\tvalidation_0-rmse:2.12327\n",
      "[12]\tvalidation_0-rmse:2.08895\n",
      "[13]\tvalidation_0-rmse:2.05411\n",
      "[14]\tvalidation_0-rmse:2.02634\n",
      "[15]\tvalidation_0-rmse:1.99344\n",
      "[16]\tvalidation_0-rmse:1.94546\n",
      "[17]\tvalidation_0-rmse:1.91323\n",
      "[18]\tvalidation_0-rmse:1.89538\n",
      "[19]\tvalidation_0-rmse:1.88228\n",
      "[20]\tvalidation_0-rmse:1.84598\n",
      "[21]\tvalidation_0-rmse:1.82951\n",
      "[22]\tvalidation_0-rmse:1.81755\n",
      "[23]\tvalidation_0-rmse:1.79875\n",
      "[24]\tvalidation_0-rmse:1.78700\n",
      "[25]\tvalidation_0-rmse:1.76245\n",
      "[26]\tvalidation_0-rmse:1.73551\n",
      "[27]\tvalidation_0-rmse:1.72071\n",
      "[28]\tvalidation_0-rmse:1.70795\n",
      "[29]\tvalidation_0-rmse:1.69584\n",
      "[30]\tvalidation_0-rmse:1.68783\n",
      "[31]\tvalidation_0-rmse:1.67516\n",
      "[32]\tvalidation_0-rmse:1.66669\n",
      "[33]\tvalidation_0-rmse:1.65107\n",
      "[34]\tvalidation_0-rmse:1.63663\n",
      "[35]\tvalidation_0-rmse:1.62566\n",
      "[36]\tvalidation_0-rmse:1.61949\n",
      "[37]\tvalidation_0-rmse:1.61027\n",
      "[38]\tvalidation_0-rmse:1.60197\n",
      "[39]\tvalidation_0-rmse:1.59361\n",
      "[40]\tvalidation_0-rmse:1.58633\n",
      "[41]\tvalidation_0-rmse:1.58448\n",
      "[42]\tvalidation_0-rmse:1.57936\n",
      "[43]\tvalidation_0-rmse:1.57510\n",
      "[44]\tvalidation_0-rmse:1.56841\n",
      "[45]\tvalidation_0-rmse:1.55944\n",
      "[46]\tvalidation_0-rmse:1.55294\n",
      "[47]\tvalidation_0-rmse:1.54417\n",
      "[48]\tvalidation_0-rmse:1.54031\n",
      "[49]\tvalidation_0-rmse:1.53450\n",
      "[50]\tvalidation_0-rmse:1.52626\n",
      "[51]\tvalidation_0-rmse:1.51895\n",
      "[52]\tvalidation_0-rmse:1.51293\n",
      "[53]\tvalidation_0-rmse:1.50901\n",
      "[54]\tvalidation_0-rmse:1.50439\n",
      "[55]\tvalidation_0-rmse:1.50252\n",
      "[56]\tvalidation_0-rmse:1.49431\n",
      "[57]\tvalidation_0-rmse:1.48971\n",
      "[58]\tvalidation_0-rmse:1.48472\n",
      "[59]\tvalidation_0-rmse:1.47286\n",
      "[60]\tvalidation_0-rmse:1.47096\n",
      "[61]\tvalidation_0-rmse:1.46932\n",
      "[62]\tvalidation_0-rmse:1.46280\n",
      "[63]\tvalidation_0-rmse:1.45849\n",
      "[64]\tvalidation_0-rmse:1.45444\n",
      "[65]\tvalidation_0-rmse:1.45238\n",
      "[66]\tvalidation_0-rmse:1.44953\n",
      "[67]\tvalidation_0-rmse:1.44637\n",
      "[68]\tvalidation_0-rmse:1.43874\n",
      "[69]\tvalidation_0-rmse:1.43263\n",
      "[70]\tvalidation_0-rmse:1.43000\n",
      "[71]\tvalidation_0-rmse:1.42646\n",
      "[72]\tvalidation_0-rmse:1.42348\n",
      "[73]\tvalidation_0-rmse:1.42254\n",
      "[74]\tvalidation_0-rmse:1.41953\n",
      "[75]\tvalidation_0-rmse:1.41723\n",
      "[76]\tvalidation_0-rmse:1.41302\n",
      "[77]\tvalidation_0-rmse:1.41001\n",
      "[78]\tvalidation_0-rmse:1.40823\n",
      "[79]\tvalidation_0-rmse:1.40754\n",
      "[80]\tvalidation_0-rmse:1.40335\n",
      "[81]\tvalidation_0-rmse:1.39936\n",
      "[82]\tvalidation_0-rmse:1.39731\n",
      "[83]\tvalidation_0-rmse:1.39443\n",
      "[84]\tvalidation_0-rmse:1.39207\n",
      "[85]\tvalidation_0-rmse:1.39042\n",
      "[86]\tvalidation_0-rmse:1.38710\n",
      "[87]\tvalidation_0-rmse:1.38555\n",
      "[88]\tvalidation_0-rmse:1.38411\n",
      "[89]\tvalidation_0-rmse:1.38050\n",
      "[90]\tvalidation_0-rmse:1.37686\n",
      "[91]\tvalidation_0-rmse:1.37502\n",
      "[92]\tvalidation_0-rmse:1.37205\n",
      "[93]\tvalidation_0-rmse:1.37127\n",
      "[94]\tvalidation_0-rmse:1.36782\n",
      "[95]\tvalidation_0-rmse:1.36467\n",
      "[96]\tvalidation_0-rmse:1.35913\n",
      "[97]\tvalidation_0-rmse:1.35663\n",
      "[98]\tvalidation_0-rmse:1.35518\n",
      "[99]\tvalidation_0-rmse:1.35325\n",
      "[100]\tvalidation_0-rmse:1.35214\n",
      "[101]\tvalidation_0-rmse:1.34959\n",
      "[102]\tvalidation_0-rmse:1.34653\n",
      "[103]\tvalidation_0-rmse:1.34314\n",
      "[104]\tvalidation_0-rmse:1.34275\n",
      "[105]\tvalidation_0-rmse:1.34187\n",
      "[106]\tvalidation_0-rmse:1.34162\n",
      "[107]\tvalidation_0-rmse:1.33889\n",
      "[108]\tvalidation_0-rmse:1.33685\n",
      "[109]\tvalidation_0-rmse:1.33582\n",
      "[110]\tvalidation_0-rmse:1.33465\n",
      "[111]\tvalidation_0-rmse:1.33411\n",
      "[112]\tvalidation_0-rmse:1.33330\n",
      "[113]\tvalidation_0-rmse:1.33256\n",
      "[114]\tvalidation_0-rmse:1.33026\n",
      "[115]\tvalidation_0-rmse:1.32956\n",
      "[116]\tvalidation_0-rmse:1.32886\n",
      "[117]\tvalidation_0-rmse:1.32840\n",
      "[118]\tvalidation_0-rmse:1.32574\n",
      "[119]\tvalidation_0-rmse:1.32496\n",
      "[120]\tvalidation_0-rmse:1.32497\n",
      "[121]\tvalidation_0-rmse:1.32465\n",
      "[122]\tvalidation_0-rmse:1.32523\n",
      "[123]\tvalidation_0-rmse:1.32077\n",
      "[124]\tvalidation_0-rmse:1.31952\n",
      "[125]\tvalidation_0-rmse:1.31780\n",
      "[126]\tvalidation_0-rmse:1.31644\n",
      "[127]\tvalidation_0-rmse:1.31479\n",
      "[128]\tvalidation_0-rmse:1.31335\n",
      "[129]\tvalidation_0-rmse:1.31374\n",
      "[130]\tvalidation_0-rmse:1.31054\n",
      "[131]\tvalidation_0-rmse:1.30970\n",
      "[132]\tvalidation_0-rmse:1.30866\n",
      "[133]\tvalidation_0-rmse:1.30777\n",
      "[134]\tvalidation_0-rmse:1.30658\n",
      "[135]\tvalidation_0-rmse:1.30585\n",
      "[136]\tvalidation_0-rmse:1.30576\n",
      "[137]\tvalidation_0-rmse:1.30473\n",
      "[138]\tvalidation_0-rmse:1.30455\n",
      "[139]\tvalidation_0-rmse:1.30399\n",
      "[140]\tvalidation_0-rmse:1.30397\n",
      "[141]\tvalidation_0-rmse:1.30333\n",
      "[142]\tvalidation_0-rmse:1.30317\n",
      "[143]\tvalidation_0-rmse:1.30278\n",
      "[144]\tvalidation_0-rmse:1.30232\n",
      "[145]\tvalidation_0-rmse:1.30252\n",
      "[146]\tvalidation_0-rmse:1.30178\n",
      "[147]\tvalidation_0-rmse:1.30172\n",
      "[148]\tvalidation_0-rmse:1.30079\n",
      "[149]\tvalidation_0-rmse:1.30073\n",
      "[150]\tvalidation_0-rmse:1.30005\n",
      "[151]\tvalidation_0-rmse:1.29936\n",
      "[152]\tvalidation_0-rmse:1.29807\n",
      "[153]\tvalidation_0-rmse:1.29910\n",
      "[154]\tvalidation_0-rmse:1.29794\n",
      "[155]\tvalidation_0-rmse:1.29772\n",
      "[156]\tvalidation_0-rmse:1.29763\n",
      "[157]\tvalidation_0-rmse:1.29749\n",
      "[158]\tvalidation_0-rmse:1.29606\n",
      "[159]\tvalidation_0-rmse:1.29556\n",
      "[160]\tvalidation_0-rmse:1.29426\n",
      "[161]\tvalidation_0-rmse:1.29405\n",
      "[162]\tvalidation_0-rmse:1.29370\n",
      "[163]\tvalidation_0-rmse:1.29299\n",
      "[164]\tvalidation_0-rmse:1.29225\n",
      "[165]\tvalidation_0-rmse:1.29247\n",
      "[166]\tvalidation_0-rmse:1.29199\n",
      "[167]\tvalidation_0-rmse:1.29062\n",
      "[168]\tvalidation_0-rmse:1.28963\n",
      "[169]\tvalidation_0-rmse:1.28829\n",
      "[170]\tvalidation_0-rmse:1.28729\n",
      "[171]\tvalidation_0-rmse:1.28593\n",
      "[172]\tvalidation_0-rmse:1.28513\n",
      "[173]\tvalidation_0-rmse:1.28464\n",
      "[174]\tvalidation_0-rmse:1.28476\n",
      "[175]\tvalidation_0-rmse:1.28483\n",
      "[176]\tvalidation_0-rmse:1.28431\n",
      "[177]\tvalidation_0-rmse:1.28248\n",
      "[178]\tvalidation_0-rmse:1.28086\n",
      "[179]\tvalidation_0-rmse:1.28003\n",
      "[180]\tvalidation_0-rmse:1.27993\n",
      "[181]\tvalidation_0-rmse:1.27946\n",
      "[182]\tvalidation_0-rmse:1.27819\n",
      "[183]\tvalidation_0-rmse:1.27615\n",
      "[184]\tvalidation_0-rmse:1.27596\n",
      "[185]\tvalidation_0-rmse:1.27601\n",
      "[186]\tvalidation_0-rmse:1.27562\n",
      "[187]\tvalidation_0-rmse:1.27532\n",
      "[188]\tvalidation_0-rmse:1.27593\n",
      "[189]\tvalidation_0-rmse:1.27529\n",
      "[190]\tvalidation_0-rmse:1.27519\n",
      "[191]\tvalidation_0-rmse:1.27441\n",
      "[192]\tvalidation_0-rmse:1.27287\n",
      "[193]\tvalidation_0-rmse:1.27287\n",
      "[194]\tvalidation_0-rmse:1.27155\n",
      "[195]\tvalidation_0-rmse:1.27052\n",
      "[196]\tvalidation_0-rmse:1.26681\n",
      "[197]\tvalidation_0-rmse:1.26669\n",
      "[198]\tvalidation_0-rmse:1.26504\n",
      "[199]\tvalidation_0-rmse:1.26460\n"
     ]
    }
   ],
   "source": [
    "import xgboost\n",
    "\n",
    "xgb_reg = xgboost.XGBRegressor( learning_rate = 0.6, n_estimators = 200, tree_method = exact)\n",
    "xgb_reg.fit(added_features_data, data_train_target, eval_set=[(added_features_data_test, data_test_target)], early_stopping_rounds=5)\n",
    "y_pred = xgb_reg.predict(added_features_data)\n"
   ]
  },
  {
   "cell_type": "code",
   "execution_count": null,
   "metadata": {},
   "outputs": [],
   "source": [
    "test = pd.DataFrame({'target':data_train_target['pressure'], 'prediction':prediction})\n",
    "test2 = pd.concat([added_features_data, test], axis=1)\n",
    "test2.to_csv(r\"D:\\MachineLearning\\Projects\\Kaggle\\Ventilator_Pressure_Prediction_Kaggle\\Output\\xgBoost_training_prediction.csv\", index=False)"
   ]
  },
  {
   "cell_type": "code",
   "execution_count": 9,
   "metadata": {},
   "outputs": [
    {
     "name": "stdout",
     "output_type": "stream",
     "text": [
      "0.9837363086362148\n",
      "0.660725657194714\n"
     ]
    }
   ],
   "source": [
    "\n",
    "prediction = xgb_reg.predict(added_features_data)\n",
    "from sklearn.metrics import r2_score\n",
    "print(r2_score(data_train_target, prediction))\n",
    "\n",
    "from sklearn.metrics import mean_absolute_error\n",
    "print(mean_absolute_error(data_train_target, prediction))"
   ]
  },
  {
   "cell_type": "code",
   "execution_count": 10,
   "metadata": {},
   "outputs": [
    {
     "name": "stdout",
     "output_type": "stream",
     "text": [
      "0.978413932851111\n",
      "0.7467988430835176\n"
     ]
    }
   ],
   "source": [
    "\n",
    "prediction = xgb_reg.predict(added_features_data_test)\n",
    "from sklearn.metrics import r2_score\n",
    "print(r2_score(data_test_target, prediction))\n",
    "\n",
    "from sklearn.metrics import mean_absolute_error\n",
    "print(mean_absolute_error(data_test_target, prediction))"
   ]
  },
  {
   "cell_type": "code",
   "execution_count": 13,
   "metadata": {},
   "outputs": [],
   "source": [
    "test = pd.DataFrame({'target':data_test_target['pressure'], 'prediction':prediction})\n",
    "test2 = pd.concat([added_features_data_test, test.reset_index()], axis=1)\n",
    "test2.to_csv(r\"D:\\MachineLearning\\Projects\\Kaggle\\Ventilator_Pressure_Prediction_Kaggle\\Output\\xgBoost_test_prediction.csv\", index=False)"
   ]
  },
  {
   "cell_type": "code",
   "execution_count": 11,
   "metadata": {},
   "outputs": [
    {
     "name": "stderr",
     "output_type": "stream",
     "text": [
      "<ipython-input-11-14beab071663>:3: DataConversionWarning: A column-vector y was passed when a 1d array was expected. Please change the shape of y to (n_samples,), for example using ravel().\n",
      "  forest.fit(added_features_data, data_train_target)\n"
     ]
    },
    {
     "data": {
      "text/plain": [
       "RandomForestRegressor(max_depth=20, n_estimators=60, n_jobs=-1, oob_score=True,\n",
       "                      random_state=0)"
      ]
     },
     "execution_count": 11,
     "metadata": {},
     "output_type": "execute_result"
    }
   ],
   "source": [
    "from sklearn.ensemble import RandomForestRegressor \n",
    "forest = RandomForestRegressor(max_depth=20, n_estimators = 60, random_state=0, oob_score = True, bootstrap = True, n_jobs = -1) \n",
    "forest.fit(added_features_data, data_train_target) \n"
   ]
  },
  {
   "cell_type": "code",
   "execution_count": 68,
   "metadata": {},
   "outputs": [],
   "source": [
    "prediction = forest.predict(added_features_data)\n"
   ]
  },
  {
   "cell_type": "code",
   "execution_count": 21,
   "metadata": {},
   "outputs": [
    {
     "name": "stderr",
     "output_type": "stream",
     "text": [
      "<ipython-input-21-9c9b344b0acf>:3: DataConversionWarning: A column-vector y was passed when a 1d array was expected. Please change the shape of y to (n_samples,), for example using ravel().\n",
      "  forest_Rest.fit(added_features_data, data_train_target)\n"
     ]
    },
    {
     "name": "stdout",
     "output_type": "stream",
     "text": [
      "-0.406787118779091\n",
      "4.540310954468408\n",
      "-0.41642694394090984\n",
      "4.534877875554686\n"
     ]
    }
   ],
   "source": [
    "from sklearn.ensemble import RandomForestRegressor \n",
    "forest_Rest = RandomForestRegressor(max_depth=20, n_estimators = 60, random_state=0, oob_score = True, bootstrap = True, n_jobs = -1) \n",
    "forest_Rest.fit(added_features_data, data_train_target) \n"
   ]
  },
  {
   "cell_type": "code",
   "execution_count": 62,
   "metadata": {},
   "outputs": [],
   "source": [
    "prediction_rest = forest_Rest.predict(added_features_data)"
   ]
  },
  {
   "cell_type": "code",
   "execution_count": 23,
   "metadata": {
    "scrolled": true
   },
   "outputs": [
    {
     "data": {
      "text/plain": [
       "<AxesSubplot:xlabel='time_step', ylabel='pressure'>"
      ]
     },
     "execution_count": 23,
     "metadata": {},
     "output_type": "execute_result"
    },
    {
     "data": {
      "image/png": "[encoded data removed]",
      "text/plain": [
       "<Figure size 432x288 with 1 Axes>"
      ]
     },
     "metadata": {
      "needs_background": "light"
     },
     "output_type": "display_data"
    },
    {
     "data": {
      "image/png": "[encoded data removed]",
      "text/plain": [
       "<Figure size 432x288 with 1 Axes>"
      ]
     },
     "metadata": {
      "needs_background": "light"
     },
     "output_type": "display_data"
    },
    {
     "data": {
      "image/png": "[encoded data removed]",
      "text/plain": [
       "<Figure size 432x288 with 1 Axes>"
      ]
     },
     "metadata": {
      "needs_background": "light"
     },
     "output_type": "display_data"
    },
    {
     "data": {
      "image/png": "[encoded data removed]",
      "text/plain": [
       "<Figure size 432x288 with 1 Axes>"
      ]
     },
     "metadata": {
      "needs_background": "light"
     },
     "output_type": "display_data"
    },
    {
     "data": {
      "image/png": "[encoded data removed]",
      "text/plain": [
       "<Figure size 432x288 with 1 Axes>"
      ]
     },
     "metadata": {
      "needs_background": "light"
     },
     "output_type": "display_data"
    },
    {
     "data": {
      "image/png": "[encoded data removed]",
      "text/plain": [
       "<Figure size 432x288 with 1 Axes>"
      ]
     },
     "metadata": {
      "needs_background": "light"
     },
     "output_type": "display_data"
    }
   ],
   "source": [
    "test1 = data[data['breath_id'] == 12]\n",
    "test2 = data[data['breath_id'] == 27]\n",
    "\n",
    "test3 = data[data['breath_id'] == 125740]\n",
    "test4 = data[data['breath_id'] == 125745]\n",
    "\n",
    "test5 = data[data['breath_id'] == 3]\n",
    "test6 = data[data['breath_id'] == 4]\n",
    "\n",
    "test1.plot(kind='scatter', x='time_step', y='pressure', alpha = 0.4)\n",
    "\n",
    "test2.plot(kind='scatter', x='time_step', y='pressure', alpha = 0.4)\n",
    "\n",
    "test3.plot(kind='scatter', x='time_step', y='pressure', alpha = 0.4)\n",
    "\n",
    "test4.plot(kind='scatter', x='time_step', y='pressure', alpha = 0.4)\n",
    "\n",
    "test5.plot(kind='scatter', x='time_step', y='pressure', alpha = 0.4)\n",
    "\n",
    "test6.plot(kind='scatter', x='time_step', y='pressure', alpha = 0.4)"
   ]
  },
  {
   "cell_type": "code",
   "execution_count": 22,
   "metadata": {},
   "outputs": [
    {
     "data": {
      "text/plain": [
       "array([     3,      4,      7, ..., 125740, 125745, 125749], dtype=int64)"
      ]
     },
     "execution_count": 22,
     "metadata": {},
     "output_type": "execute_result"
    }
   ],
   "source": [
    " data[data['R'] == 50]['breath_id'].unique()"
   ]
  },
  {
   "cell_type": "code",
   "execution_count": 21,
   "metadata": {},
   "outputs": [
    {
     "data": {
      "text/plain": [
       "<AxesSubplot:xlabel='time_step', ylabel='pressure'>"
      ]
     },
     "execution_count": 21,
     "metadata": {},
     "output_type": "execute_result"
    },
    {
     "data": {
      "image/png": "[encoded data removed]",
      "text/plain": [
       "<Figure size 432x288 with 1 Axes>"
      ]
     },
     "metadata": {
      "needs_background": "light"
     },
     "output_type": "display_data"
    },
    {
     "data": {
      "image/png": "[encoded data removed]",
      "text/plain": [
       "<Figure size 432x288 with 1 Axes>"
      ]
     },
     "metadata": {
      "needs_background": "light"
     },
     "output_type": "display_data"
    },
    {
     "data": {
      "image/png": "[encoded data removed]",
      "text/plain": [
       "<Figure size 432x288 with 1 Axes>"
      ]
     },
     "metadata": {
      "needs_background": "light"
     },
     "output_type": "display_data"
    }
   ],
   "source": [
    "test1 = data[data['breath_id'] == 1]\n",
    "test2 = data[data['breath_id'] == 125743]\n",
    "test3 = data[data['breath_id'] == 9]\n",
    "\n",
    "test1.plot(kind='scatter', x='time_step', y='pressure', alpha = 0.4)\n",
    "\n",
    "test2.plot(kind='scatter', x='time_step', y='pressure', alpha = 0.4)\n",
    "\n",
    "test3.plot(kind='scatter', x='time_step', y='pressure', alpha = 0.4)"
   ]
  },
  {
   "cell_type": "code",
   "execution_count": 20,
   "metadata": {},
   "outputs": [
    {
     "data": {
      "text/plain": [
       "(3281120, 85)"
      ]
     },
     "execution_count": 20,
     "metadata": {},
     "output_type": "execute_result"
    }
   ],
   "source": [
    "added_features_data.shape"
   ]
  },
  {
   "cell_type": "code",
   "execution_count": 36,
   "metadata": {},
   "outputs": [
    {
     "data": {
      "text/plain": [
       "(2417200, 7)"
      ]
     },
     "execution_count": 36,
     "metadata": {},
     "output_type": "execute_result"
    }
   ],
   "source": [
    "data.shape"
   ]
  },
  {
   "cell_type": "code",
   "execution_count": 44,
   "metadata": {},
   "outputs": [
    {
     "data": {
      "text/plain": [
       "array([6.27907869, 5.9058075 , 7.05594718, ..., 6.26530918, 6.26301312,\n",
       "       6.36459649])"
      ]
     },
     "execution_count": 44,
     "metadata": {},
     "output_type": "execute_result"
    }
   ],
   "source": [
    "prediction_rest"
   ]
  },
  {
   "cell_type": "code",
   "execution_count": 45,
   "metadata": {},
   "outputs": [
    {
     "data": {
      "text/html": [
       "<div>\n",
       "<style scoped>\n",
       "    .dataframe tbody tr th:only-of-type {\n",
       "        vertical-align: middle;\n",
       "    }\n",
       "\n",
       "    .dataframe tbody tr th {\n",
       "        vertical-align: top;\n",
       "    }\n",
       "\n",
       "    .dataframe thead th {\n",
       "        text-align: right;\n",
       "    }\n",
       "</style>\n",
       "<table border=\"1\" class=\"dataframe\">\n",
       "  <thead>\n",
       "    <tr style=\"text-align: right;\">\n",
       "      <th></th>\n",
       "      <th>R</th>\n",
       "      <th>C</th>\n",
       "      <th>u_out</th>\n",
       "      <th>time_index</th>\n",
       "      <th>time_step_catagory</th>\n",
       "      <th>0</th>\n",
       "      <th>1</th>\n",
       "      <th>2</th>\n",
       "      <th>3</th>\n",
       "      <th>4</th>\n",
       "      <th>...</th>\n",
       "      <th>70</th>\n",
       "      <th>71</th>\n",
       "      <th>72</th>\n",
       "      <th>73</th>\n",
       "      <th>74</th>\n",
       "      <th>75</th>\n",
       "      <th>76</th>\n",
       "      <th>77</th>\n",
       "      <th>78</th>\n",
       "      <th>79</th>\n",
       "    </tr>\n",
       "  </thead>\n",
       "  <tbody>\n",
       "    <tr>\n",
       "      <th>0</th>\n",
       "      <td>5</td>\n",
       "      <td>20</td>\n",
       "      <td>0</td>\n",
       "      <td>0</td>\n",
       "      <td>0.0</td>\n",
       "      <td>0.000000</td>\n",
       "      <td>0.000000</td>\n",
       "      <td>0.000000</td>\n",
       "      <td>0.00000</td>\n",
       "      <td>0.000000</td>\n",
       "      <td>...</td>\n",
       "      <td>0.000000</td>\n",
       "      <td>0.000000</td>\n",
       "      <td>0.000000</td>\n",
       "      <td>0.000000</td>\n",
       "      <td>0.000000</td>\n",
       "      <td>0.000000</td>\n",
       "      <td>0.000000</td>\n",
       "      <td>0.000000</td>\n",
       "      <td>0.000000</td>\n",
       "      <td>0.000000</td>\n",
       "    </tr>\n",
       "    <tr>\n",
       "      <th>1</th>\n",
       "      <td>5</td>\n",
       "      <td>20</td>\n",
       "      <td>0</td>\n",
       "      <td>1</td>\n",
       "      <td>0.0</td>\n",
       "      <td>0.000000</td>\n",
       "      <td>7.515046</td>\n",
       "      <td>0.000000</td>\n",
       "      <td>0.00000</td>\n",
       "      <td>0.000000</td>\n",
       "      <td>...</td>\n",
       "      <td>0.000000</td>\n",
       "      <td>0.000000</td>\n",
       "      <td>0.000000</td>\n",
       "      <td>0.000000</td>\n",
       "      <td>0.000000</td>\n",
       "      <td>0.000000</td>\n",
       "      <td>0.000000</td>\n",
       "      <td>0.000000</td>\n",
       "      <td>0.000000</td>\n",
       "      <td>0.000000</td>\n",
       "    </tr>\n",
       "    <tr>\n",
       "      <th>2</th>\n",
       "      <td>5</td>\n",
       "      <td>20</td>\n",
       "      <td>0</td>\n",
       "      <td>2</td>\n",
       "      <td>0.0</td>\n",
       "      <td>0.000000</td>\n",
       "      <td>7.515046</td>\n",
       "      <td>14.651675</td>\n",
       "      <td>0.00000</td>\n",
       "      <td>0.000000</td>\n",
       "      <td>...</td>\n",
       "      <td>0.000000</td>\n",
       "      <td>0.000000</td>\n",
       "      <td>0.000000</td>\n",
       "      <td>0.000000</td>\n",
       "      <td>0.000000</td>\n",
       "      <td>0.000000</td>\n",
       "      <td>0.000000</td>\n",
       "      <td>0.000000</td>\n",
       "      <td>0.000000</td>\n",
       "      <td>0.000000</td>\n",
       "    </tr>\n",
       "    <tr>\n",
       "      <th>3</th>\n",
       "      <td>5</td>\n",
       "      <td>20</td>\n",
       "      <td>0</td>\n",
       "      <td>3</td>\n",
       "      <td>0.0</td>\n",
       "      <td>0.000000</td>\n",
       "      <td>7.515046</td>\n",
       "      <td>14.651675</td>\n",
       "      <td>21.23061</td>\n",
       "      <td>0.000000</td>\n",
       "      <td>...</td>\n",
       "      <td>0.000000</td>\n",
       "      <td>0.000000</td>\n",
       "      <td>0.000000</td>\n",
       "      <td>0.000000</td>\n",
       "      <td>0.000000</td>\n",
       "      <td>0.000000</td>\n",
       "      <td>0.000000</td>\n",
       "      <td>0.000000</td>\n",
       "      <td>0.000000</td>\n",
       "      <td>0.000000</td>\n",
       "    </tr>\n",
       "    <tr>\n",
       "      <th>4</th>\n",
       "      <td>5</td>\n",
       "      <td>20</td>\n",
       "      <td>0</td>\n",
       "      <td>4</td>\n",
       "      <td>0.0</td>\n",
       "      <td>0.000000</td>\n",
       "      <td>7.515046</td>\n",
       "      <td>14.651675</td>\n",
       "      <td>21.23061</td>\n",
       "      <td>26.320956</td>\n",
       "      <td>...</td>\n",
       "      <td>0.000000</td>\n",
       "      <td>0.000000</td>\n",
       "      <td>0.000000</td>\n",
       "      <td>0.000000</td>\n",
       "      <td>0.000000</td>\n",
       "      <td>0.000000</td>\n",
       "      <td>0.000000</td>\n",
       "      <td>0.000000</td>\n",
       "      <td>0.000000</td>\n",
       "      <td>0.000000</td>\n",
       "    </tr>\n",
       "    <tr>\n",
       "      <th>...</th>\n",
       "      <td>...</td>\n",
       "      <td>...</td>\n",
       "      <td>...</td>\n",
       "      <td>...</td>\n",
       "      <td>...</td>\n",
       "      <td>...</td>\n",
       "      <td>...</td>\n",
       "      <td>...</td>\n",
       "      <td>...</td>\n",
       "      <td>...</td>\n",
       "      <td>...</td>\n",
       "      <td>...</td>\n",
       "      <td>...</td>\n",
       "      <td>...</td>\n",
       "      <td>...</td>\n",
       "      <td>...</td>\n",
       "      <td>...</td>\n",
       "      <td>...</td>\n",
       "      <td>...</td>\n",
       "      <td>...</td>\n",
       "      <td>...</td>\n",
       "    </tr>\n",
       "    <tr>\n",
       "      <th>2417195</th>\n",
       "      <td>20</td>\n",
       "      <td>10</td>\n",
       "      <td>1</td>\n",
       "      <td>75</td>\n",
       "      <td>1.0</td>\n",
       "      <td>9.985853</td>\n",
       "      <td>35.151391</td>\n",
       "      <td>0.000000</td>\n",
       "      <td>0.00000</td>\n",
       "      <td>14.323999</td>\n",
       "      <td>...</td>\n",
       "      <td>4.932934</td>\n",
       "      <td>4.943394</td>\n",
       "      <td>4.952134</td>\n",
       "      <td>4.959653</td>\n",
       "      <td>4.965959</td>\n",
       "      <td>4.971245</td>\n",
       "      <td>0.000000</td>\n",
       "      <td>0.000000</td>\n",
       "      <td>0.000000</td>\n",
       "      <td>0.000000</td>\n",
       "    </tr>\n",
       "    <tr>\n",
       "      <th>2417196</th>\n",
       "      <td>20</td>\n",
       "      <td>10</td>\n",
       "      <td>1</td>\n",
       "      <td>76</td>\n",
       "      <td>1.0</td>\n",
       "      <td>9.985853</td>\n",
       "      <td>35.151391</td>\n",
       "      <td>0.000000</td>\n",
       "      <td>0.00000</td>\n",
       "      <td>14.323999</td>\n",
       "      <td>...</td>\n",
       "      <td>4.932934</td>\n",
       "      <td>4.943394</td>\n",
       "      <td>4.952134</td>\n",
       "      <td>4.959653</td>\n",
       "      <td>4.965959</td>\n",
       "      <td>4.971245</td>\n",
       "      <td>4.975709</td>\n",
       "      <td>0.000000</td>\n",
       "      <td>0.000000</td>\n",
       "      <td>0.000000</td>\n",
       "    </tr>\n",
       "    <tr>\n",
       "      <th>2417197</th>\n",
       "      <td>20</td>\n",
       "      <td>10</td>\n",
       "      <td>1</td>\n",
       "      <td>77</td>\n",
       "      <td>1.0</td>\n",
       "      <td>9.985853</td>\n",
       "      <td>35.151391</td>\n",
       "      <td>0.000000</td>\n",
       "      <td>0.00000</td>\n",
       "      <td>14.323999</td>\n",
       "      <td>...</td>\n",
       "      <td>4.932934</td>\n",
       "      <td>4.943394</td>\n",
       "      <td>4.952134</td>\n",
       "      <td>4.959653</td>\n",
       "      <td>4.965959</td>\n",
       "      <td>4.971245</td>\n",
       "      <td>4.975709</td>\n",
       "      <td>4.979468</td>\n",
       "      <td>0.000000</td>\n",
       "      <td>0.000000</td>\n",
       "    </tr>\n",
       "    <tr>\n",
       "      <th>2417198</th>\n",
       "      <td>20</td>\n",
       "      <td>10</td>\n",
       "      <td>1</td>\n",
       "      <td>78</td>\n",
       "      <td>1.0</td>\n",
       "      <td>9.985853</td>\n",
       "      <td>35.151391</td>\n",
       "      <td>0.000000</td>\n",
       "      <td>0.00000</td>\n",
       "      <td>14.323999</td>\n",
       "      <td>...</td>\n",
       "      <td>4.932934</td>\n",
       "      <td>4.943394</td>\n",
       "      <td>4.952134</td>\n",
       "      <td>4.959653</td>\n",
       "      <td>4.965959</td>\n",
       "      <td>4.971245</td>\n",
       "      <td>4.975709</td>\n",
       "      <td>4.979468</td>\n",
       "      <td>4.982648</td>\n",
       "      <td>0.000000</td>\n",
       "    </tr>\n",
       "    <tr>\n",
       "      <th>2417199</th>\n",
       "      <td>20</td>\n",
       "      <td>10</td>\n",
       "      <td>1</td>\n",
       "      <td>79</td>\n",
       "      <td>1.0</td>\n",
       "      <td>9.985853</td>\n",
       "      <td>35.151391</td>\n",
       "      <td>0.000000</td>\n",
       "      <td>0.00000</td>\n",
       "      <td>14.323999</td>\n",
       "      <td>...</td>\n",
       "      <td>4.932934</td>\n",
       "      <td>4.943394</td>\n",
       "      <td>4.952134</td>\n",
       "      <td>4.959653</td>\n",
       "      <td>4.965959</td>\n",
       "      <td>4.971245</td>\n",
       "      <td>4.975709</td>\n",
       "      <td>4.979468</td>\n",
       "      <td>4.982648</td>\n",
       "      <td>4.985373</td>\n",
       "    </tr>\n",
       "  </tbody>\n",
       "</table>\n",
       "<p>2417200 rows × 85 columns</p>\n",
       "</div>"
      ],
      "text/plain": [
       "          R   C  u_out  time_index  time_step_catagory         0          1  \\\n",
       "0         5  20      0           0                 0.0  0.000000   0.000000   \n",
       "1         5  20      0           1                 0.0  0.000000   7.515046   \n",
       "2         5  20      0           2                 0.0  0.000000   7.515046   \n",
       "3         5  20      0           3                 0.0  0.000000   7.515046   \n",
       "4         5  20      0           4                 0.0  0.000000   7.515046   \n",
       "...      ..  ..    ...         ...                 ...       ...        ...   \n",
       "2417195  20  10      1          75                 1.0  9.985853  35.151391   \n",
       "2417196  20  10      1          76                 1.0  9.985853  35.151391   \n",
       "2417197  20  10      1          77                 1.0  9.985853  35.151391   \n",
       "2417198  20  10      1          78                 1.0  9.985853  35.151391   \n",
       "2417199  20  10      1          79                 1.0  9.985853  35.151391   \n",
       "\n",
       "                 2         3          4  ...        70        71        72  \\\n",
       "0         0.000000   0.00000   0.000000  ...  0.000000  0.000000  0.000000   \n",
       "1         0.000000   0.00000   0.000000  ...  0.000000  0.000000  0.000000   \n",
       "2        14.651675   0.00000   0.000000  ...  0.000000  0.000000  0.000000   \n",
       "3        14.651675  21.23061   0.000000  ...  0.000000  0.000000  0.000000   \n",
       "4        14.651675  21.23061  26.320956  ...  0.000000  0.000000  0.000000   \n",
       "...            ...       ...        ...  ...       ...       ...       ...   \n",
       "2417195   0.000000   0.00000  14.323999  ...  4.932934  4.943394  4.952134   \n",
       "2417196   0.000000   0.00000  14.323999  ...  4.932934  4.943394  4.952134   \n",
       "2417197   0.000000   0.00000  14.323999  ...  4.932934  4.943394  4.952134   \n",
       "2417198   0.000000   0.00000  14.323999  ...  4.932934  4.943394  4.952134   \n",
       "2417199   0.000000   0.00000  14.323999  ...  4.932934  4.943394  4.952134   \n",
       "\n",
       "               73        74        75        76        77        78        79  \n",
       "0        0.000000  0.000000  0.000000  0.000000  0.000000  0.000000  0.000000  \n",
       "1        0.000000  0.000000  0.000000  0.000000  0.000000  0.000000  0.000000  \n",
       "2        0.000000  0.000000  0.000000  0.000000  0.000000  0.000000  0.000000  \n",
       "3        0.000000  0.000000  0.000000  0.000000  0.000000  0.000000  0.000000  \n",
       "4        0.000000  0.000000  0.000000  0.000000  0.000000  0.000000  0.000000  \n",
       "...           ...       ...       ...       ...       ...       ...       ...  \n",
       "2417195  4.959653  4.965959  4.971245  0.000000  0.000000  0.000000  0.000000  \n",
       "2417196  4.959653  4.965959  4.971245  4.975709  0.000000  0.000000  0.000000  \n",
       "2417197  4.959653  4.965959  4.971245  4.975709  4.979468  0.000000  0.000000  \n",
       "2417198  4.959653  4.965959  4.971245  4.975709  4.979468  4.982648  0.000000  \n",
       "2417199  4.959653  4.965959  4.971245  4.975709  4.979468  4.982648  4.985373  \n",
       "\n",
       "[2417200 rows x 85 columns]"
      ]
     },
     "execution_count": 45,
     "metadata": {},
     "output_type": "execute_result"
    }
   ],
   "source": [
    "added_features_data"
   ]
  },
  {
   "cell_type": "code",
   "execution_count": 63,
   "metadata": {},
   "outputs": [],
   "source": [
    "data_train['pressure'] = prediction_rest"
   ]
  },
  {
   "cell_type": "code",
   "execution_count": 69,
   "metadata": {},
   "outputs": [],
   "source": [
    "data_train['pressure'] = prediction"
   ]
  },
  {
   "cell_type": "code",
   "execution_count": 64,
   "metadata": {},
   "outputs": [],
   "source": [
    "dataR50 = data_train"
   ]
  },
  {
   "cell_type": "code",
   "execution_count": 70,
   "metadata": {},
   "outputs": [],
   "source": [
    "dataREAL50 = data_train"
   ]
  },
  {
   "cell_type": "code",
   "execution_count": 71,
   "metadata": {},
   "outputs": [
    {
     "data": {
      "text/html": [
       "<div>\n",
       "<style scoped>\n",
       "    .dataframe tbody tr th:only-of-type {\n",
       "        vertical-align: middle;\n",
       "    }\n",
       "\n",
       "    .dataframe tbody tr th {\n",
       "        vertical-align: top;\n",
       "    }\n",
       "\n",
       "    .dataframe thead th {\n",
       "        text-align: right;\n",
       "    }\n",
       "</style>\n",
       "<table border=\"1\" class=\"dataframe\">\n",
       "  <thead>\n",
       "    <tr style=\"text-align: right;\">\n",
       "      <th></th>\n",
       "      <th>breath_id</th>\n",
       "      <th>R</th>\n",
       "      <th>C</th>\n",
       "      <th>time_step</th>\n",
       "      <th>u_in</th>\n",
       "      <th>u_out</th>\n",
       "      <th>time_index</th>\n",
       "      <th>pressure</th>\n",
       "    </tr>\n",
       "  </thead>\n",
       "  <tbody>\n",
       "    <tr>\n",
       "      <th>160</th>\n",
       "      <td>11</td>\n",
       "      <td>50</td>\n",
       "      <td>10</td>\n",
       "      <td>0.000000</td>\n",
       "      <td>33.717608</td>\n",
       "      <td>0</td>\n",
       "      <td>0</td>\n",
       "      <td>3.619128</td>\n",
       "    </tr>\n",
       "    <tr>\n",
       "      <th>161</th>\n",
       "      <td>11</td>\n",
       "      <td>50</td>\n",
       "      <td>10</td>\n",
       "      <td>0.035074</td>\n",
       "      <td>26.595397</td>\n",
       "      <td>0</td>\n",
       "      <td>1</td>\n",
       "      <td>9.735002</td>\n",
       "    </tr>\n",
       "    <tr>\n",
       "      <th>162</th>\n",
       "      <td>11</td>\n",
       "      <td>50</td>\n",
       "      <td>10</td>\n",
       "      <td>0.069354</td>\n",
       "      <td>20.281570</td>\n",
       "      <td>0</td>\n",
       "      <td>2</td>\n",
       "      <td>14.371867</td>\n",
       "    </tr>\n",
       "    <tr>\n",
       "      <th>163</th>\n",
       "      <td>11</td>\n",
       "      <td>50</td>\n",
       "      <td>10</td>\n",
       "      <td>0.103556</td>\n",
       "      <td>13.548649</td>\n",
       "      <td>0</td>\n",
       "      <td>3</td>\n",
       "      <td>21.052173</td>\n",
       "    </tr>\n",
       "    <tr>\n",
       "      <th>164</th>\n",
       "      <td>11</td>\n",
       "      <td>50</td>\n",
       "      <td>10</td>\n",
       "      <td>0.138664</td>\n",
       "      <td>6.483971</td>\n",
       "      <td>0</td>\n",
       "      <td>4</td>\n",
       "      <td>22.684681</td>\n",
       "    </tr>\n",
       "    <tr>\n",
       "      <th>...</th>\n",
       "      <td>...</td>\n",
       "      <td>...</td>\n",
       "      <td>...</td>\n",
       "      <td>...</td>\n",
       "      <td>...</td>\n",
       "      <td>...</td>\n",
       "      <td>...</td>\n",
       "      <td>...</td>\n",
       "    </tr>\n",
       "    <tr>\n",
       "      <th>4023915</th>\n",
       "      <td>125747</td>\n",
       "      <td>50</td>\n",
       "      <td>10</td>\n",
       "      <td>2.582654</td>\n",
       "      <td>4.980081</td>\n",
       "      <td>1</td>\n",
       "      <td>75</td>\n",
       "      <td>6.520518</td>\n",
       "    </tr>\n",
       "    <tr>\n",
       "      <th>4023916</th>\n",
       "      <td>125747</td>\n",
       "      <td>50</td>\n",
       "      <td>10</td>\n",
       "      <td>2.617739</td>\n",
       "      <td>4.983286</td>\n",
       "      <td>1</td>\n",
       "      <td>76</td>\n",
       "      <td>6.520518</td>\n",
       "    </tr>\n",
       "    <tr>\n",
       "      <th>4023917</th>\n",
       "      <td>125747</td>\n",
       "      <td>50</td>\n",
       "      <td>10</td>\n",
       "      <td>2.651807</td>\n",
       "      <td>4.985904</td>\n",
       "      <td>1</td>\n",
       "      <td>77</td>\n",
       "      <td>6.520518</td>\n",
       "    </tr>\n",
       "    <tr>\n",
       "      <th>4023918</th>\n",
       "      <td>125747</td>\n",
       "      <td>50</td>\n",
       "      <td>10</td>\n",
       "      <td>2.686144</td>\n",
       "      <td>4.988127</td>\n",
       "      <td>1</td>\n",
       "      <td>78</td>\n",
       "      <td>6.520518</td>\n",
       "    </tr>\n",
       "    <tr>\n",
       "      <th>4023919</th>\n",
       "      <td>125747</td>\n",
       "      <td>50</td>\n",
       "      <td>10</td>\n",
       "      <td>2.721009</td>\n",
       "      <td>4.990027</td>\n",
       "      <td>1</td>\n",
       "      <td>79</td>\n",
       "      <td>6.518037</td>\n",
       "    </tr>\n",
       "  </tbody>\n",
       "</table>\n",
       "<p>1606800 rows × 8 columns</p>\n",
       "</div>"
      ],
      "text/plain": [
       "         breath_id   R   C  time_step       u_in  u_out  time_index   pressure\n",
       "160             11  50  10   0.000000  33.717608      0           0   3.619128\n",
       "161             11  50  10   0.035074  26.595397      0           1   9.735002\n",
       "162             11  50  10   0.069354  20.281570      0           2  14.371867\n",
       "163             11  50  10   0.103556  13.548649      0           3  21.052173\n",
       "164             11  50  10   0.138664   6.483971      0           4  22.684681\n",
       "...            ...  ..  ..        ...        ...    ...         ...        ...\n",
       "4023915     125747  50  10   2.582654   4.980081      1          75   6.520518\n",
       "4023916     125747  50  10   2.617739   4.983286      1          76   6.520518\n",
       "4023917     125747  50  10   2.651807   4.985904      1          77   6.520518\n",
       "4023918     125747  50  10   2.686144   4.988127      1          78   6.520518\n",
       "4023919     125747  50  10   2.721009   4.990027      1          79   6.518037\n",
       "\n",
       "[1606800 rows x 8 columns]"
      ]
     },
     "execution_count": 71,
     "metadata": {},
     "output_type": "execute_result"
    }
   ],
   "source": [
    "dataREAL50"
   ]
  },
  {
   "cell_type": "code",
   "execution_count": 94,
   "metadata": {},
   "outputs": [],
   "source": [
    "final = pd.concat([dataREAL50, dataR50], axis=0)"
   ]
  },
  {
   "cell_type": "code",
   "execution_count": 74,
   "metadata": {},
   "outputs": [],
   "source": [
    "data = pd.read_csv(r\"D:\\MachineLearning\\Projects\\Kaggle\\Ventilator_Pressure_Prediction_Kaggle\\Data\\ventilator-pressure-prediction\\test.csv\")"
   ]
  },
  {
   "cell_type": "code",
   "execution_count": 99,
   "metadata": {},
   "outputs": [
    {
     "data": {
      "text/html": [
       "<div>\n",
       "<style scoped>\n",
       "    .dataframe tbody tr th:only-of-type {\n",
       "        vertical-align: middle;\n",
       "    }\n",
       "\n",
       "    .dataframe tbody tr th {\n",
       "        vertical-align: top;\n",
       "    }\n",
       "\n",
       "    .dataframe thead th {\n",
       "        text-align: right;\n",
       "    }\n",
       "</style>\n",
       "<table border=\"1\" class=\"dataframe\">\n",
       "  <thead>\n",
       "    <tr style=\"text-align: right;\">\n",
       "      <th></th>\n",
       "      <th>id</th>\n",
       "      <th>pressure</th>\n",
       "    </tr>\n",
       "  </thead>\n",
       "  <tbody>\n",
       "    <tr>\n",
       "      <th>1606800</th>\n",
       "      <td>0</td>\n",
       "      <td>6.279079</td>\n",
       "    </tr>\n",
       "    <tr>\n",
       "      <th>1606801</th>\n",
       "      <td>1</td>\n",
       "      <td>5.905807</td>\n",
       "    </tr>\n",
       "    <tr>\n",
       "      <th>1606802</th>\n",
       "      <td>2</td>\n",
       "      <td>7.055947</td>\n",
       "    </tr>\n",
       "    <tr>\n",
       "      <th>1606803</th>\n",
       "      <td>3</td>\n",
       "      <td>7.302555</td>\n",
       "    </tr>\n",
       "    <tr>\n",
       "      <th>1606804</th>\n",
       "      <td>4</td>\n",
       "      <td>8.633921</td>\n",
       "    </tr>\n",
       "    <tr>\n",
       "      <th>...</th>\n",
       "      <td>...</td>\n",
       "      <td>...</td>\n",
       "    </tr>\n",
       "    <tr>\n",
       "      <th>4023995</th>\n",
       "      <td>4023995</td>\n",
       "      <td>6.258171</td>\n",
       "    </tr>\n",
       "    <tr>\n",
       "      <th>4023996</th>\n",
       "      <td>4023996</td>\n",
       "      <td>6.281370</td>\n",
       "    </tr>\n",
       "    <tr>\n",
       "      <th>4023997</th>\n",
       "      <td>4023997</td>\n",
       "      <td>6.265309</td>\n",
       "    </tr>\n",
       "    <tr>\n",
       "      <th>4023998</th>\n",
       "      <td>4023998</td>\n",
       "      <td>6.263013</td>\n",
       "    </tr>\n",
       "    <tr>\n",
       "      <th>4023999</th>\n",
       "      <td>4023999</td>\n",
       "      <td>6.364596</td>\n",
       "    </tr>\n",
       "  </tbody>\n",
       "</table>\n",
       "<p>4024000 rows × 2 columns</p>\n",
       "</div>"
      ],
      "text/plain": [
       "              id  pressure\n",
       "1606800        0  6.279079\n",
       "1606801        1  5.905807\n",
       "1606802        2  7.055947\n",
       "1606803        3  7.302555\n",
       "1606804        4  8.633921\n",
       "...          ...       ...\n",
       "4023995  4023995  6.258171\n",
       "4023996  4023996  6.281370\n",
       "4023997  4023997  6.265309\n",
       "4023998  4023998  6.263013\n",
       "4023999  4023999  6.364596\n",
       "\n",
       "[4024000 rows x 2 columns]"
      ]
     },
     "execution_count": 99,
     "metadata": {},
     "output_type": "execute_result"
    }
   ],
   "source": [
    "output"
   ]
  },
  {
   "cell_type": "code",
   "execution_count": 96,
   "metadata": {},
   "outputs": [],
   "source": [
    "test = reset_final.rename(columns={\"index\":\"id\"})"
   ]
  },
  {
   "cell_type": "code",
   "execution_count": 98,
   "metadata": {},
   "outputs": [],
   "source": [
    "output = test.sort_values(\"id\")\n",
    "output.drop(columns=['breath_id'], inplace=True)\n",
    "output.drop(columns=['time_step'], inplace=True)\n",
    "output.drop(columns=['u_in'], inplace=True)\n",
    "output.drop(columns=['u_out'], inplace=True)\n",
    "output.drop(columns=['R'], inplace=True)\n",
    "output.drop(columns=['C'], inplace=True)\n",
    "output.drop(columns=['time_index'], inplace=True)"
   ]
  },
  {
   "cell_type": "code",
   "execution_count": 104,
   "metadata": {},
   "outputs": [],
   "source": [
    "output.to_csv(r\"D:\\MachineLearning\\Projects\\Kaggle\\Ventilator_Pressure_Prediction_Kaggle\\Output\\submission_3.csv\", index=False)"
   ]
  },
  {
   "cell_type": "code",
   "execution_count": 102,
   "metadata": {},
   "outputs": [],
   "source": [
    "output['id'] = output['id'] + 1"
   ]
  },
  {
   "cell_type": "code",
   "execution_count": 103,
   "metadata": {},
   "outputs": [
    {
     "data": {
      "text/html": [
       "<div>\n",
       "<style scoped>\n",
       "    .dataframe tbody tr th:only-of-type {\n",
       "        vertical-align: middle;\n",
       "    }\n",
       "\n",
       "    .dataframe tbody tr th {\n",
       "        vertical-align: top;\n",
       "    }\n",
       "\n",
       "    .dataframe thead th {\n",
       "        text-align: right;\n",
       "    }\n",
       "</style>\n",
       "<table border=\"1\" class=\"dataframe\">\n",
       "  <thead>\n",
       "    <tr style=\"text-align: right;\">\n",
       "      <th></th>\n",
       "      <th>id</th>\n",
       "      <th>pressure</th>\n",
       "    </tr>\n",
       "  </thead>\n",
       "  <tbody>\n",
       "    <tr>\n",
       "      <th>1606800</th>\n",
       "      <td>1</td>\n",
       "      <td>6.279079</td>\n",
       "    </tr>\n",
       "    <tr>\n",
       "      <th>1606801</th>\n",
       "      <td>2</td>\n",
       "      <td>5.905807</td>\n",
       "    </tr>\n",
       "    <tr>\n",
       "      <th>1606802</th>\n",
       "      <td>3</td>\n",
       "      <td>7.055947</td>\n",
       "    </tr>\n",
       "    <tr>\n",
       "      <th>1606803</th>\n",
       "      <td>4</td>\n",
       "      <td>7.302555</td>\n",
       "    </tr>\n",
       "    <tr>\n",
       "      <th>1606804</th>\n",
       "      <td>5</td>\n",
       "      <td>8.633921</td>\n",
       "    </tr>\n",
       "    <tr>\n",
       "      <th>...</th>\n",
       "      <td>...</td>\n",
       "      <td>...</td>\n",
       "    </tr>\n",
       "    <tr>\n",
       "      <th>4023995</th>\n",
       "      <td>4023996</td>\n",
       "      <td>6.258171</td>\n",
       "    </tr>\n",
       "    <tr>\n",
       "      <th>4023996</th>\n",
       "      <td>4023997</td>\n",
       "      <td>6.281370</td>\n",
       "    </tr>\n",
       "    <tr>\n",
       "      <th>4023997</th>\n",
       "      <td>4023998</td>\n",
       "      <td>6.265309</td>\n",
       "    </tr>\n",
       "    <tr>\n",
       "      <th>4023998</th>\n",
       "      <td>4023999</td>\n",
       "      <td>6.263013</td>\n",
       "    </tr>\n",
       "    <tr>\n",
       "      <th>4023999</th>\n",
       "      <td>4024000</td>\n",
       "      <td>6.364596</td>\n",
       "    </tr>\n",
       "  </tbody>\n",
       "</table>\n",
       "<p>4024000 rows × 2 columns</p>\n",
       "</div>"
      ],
      "text/plain": [
       "              id  pressure\n",
       "1606800        1  6.279079\n",
       "1606801        2  5.905807\n",
       "1606802        3  7.055947\n",
       "1606803        4  7.302555\n",
       "1606804        5  8.633921\n",
       "...          ...       ...\n",
       "4023995  4023996  6.258171\n",
       "4023996  4023997  6.281370\n",
       "4023997  4023998  6.265309\n",
       "4023998  4023999  6.263013\n",
       "4023999  4024000  6.364596\n",
       "\n",
       "[4024000 rows x 2 columns]"
      ]
     },
     "execution_count": 103,
     "metadata": {},
     "output_type": "execute_result"
    }
   ],
   "source": [
    "output"
   ]
  },
  {
   "cell_type": "code",
   "execution_count": null,
   "metadata": {},
   "outputs": [],
   "source": []
  }
 ],
 "metadata": {
  "kernelspec": {
   "display_name": "Python 3",
   "language": "python",
   "name": "python3"
  },
  "language_info": {
   "codemirror_mode": {
    "name": "ipython",
    "version": 3
   },
   "file_extension": ".py",
   "mimetype": "text/x-python",
   "name": "python",
   "nbconvert_exporter": "python",
   "pygments_lexer": "ipython3",
   "version": "3.8.5"
  }
 },
 "nbformat": 4,
 "nbformat_minor": 4
}
